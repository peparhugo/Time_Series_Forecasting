{
 "cells": [
  {
   "cell_type": "code",
   "execution_count": 2,
   "metadata": {
    "collapsed": false
   },
   "outputs": [
    {
     "name": "stderr",
     "output_type": "stream",
     "text": [
      "Loading required package: dplyr\n",
      "\n",
      "Attaching package: 'dplyr'\n",
      "\n",
      "The following objects are masked from 'package:stats':\n",
      "\n",
      "    filter, lag\n",
      "\n",
      "The following objects are masked from 'package:base':\n",
      "\n",
      "    intersect, setdiff, setequal, union\n",
      "\n",
      "Loading required package: xlsx\n",
      "Loading required package: rJava\n",
      "Loading required package: xlsxjars\n",
      "Loading required package: lubridate\n",
      "\n",
      "Attaching package: 'lubridate'\n",
      "\n",
      "The following object is masked from 'package:base':\n",
      "\n",
      "    date\n",
      "\n",
      "Loading required package: tidyr\n",
      "Loading required package: xts\n",
      "Loading required package: zoo\n",
      "\n",
      "Attaching package: 'zoo'\n",
      "\n",
      "The following objects are masked from 'package:base':\n",
      "\n",
      "    as.Date, as.Date.numeric\n",
      "\n",
      "\n",
      "Attaching package: 'xts'\n",
      "\n",
      "The following objects are masked from 'package:dplyr':\n",
      "\n",
      "    first, last\n",
      "\n",
      "Loading required package: forecast\n",
      "Loading required package: timeDate\n",
      "This is forecast 7.1 \n",
      "\n",
      "Loading required package: ggplot2\n"
     ]
    }
   ],
   "source": [
    "require(dplyr)\n",
    "require(xlsx)\n",
    "require(lubridate)\n",
    "require(tidyr)\n",
    "require(xts)\n",
    "require(forecast)\n",
    "require(ggplot2)"
   ]
  },
  {
   "cell_type": "code",
   "execution_count": 3,
   "metadata": {
    "collapsed": false
   },
   "outputs": [],
   "source": [
    "data = tbl_df(read.xlsx(\"c:/users/pepar/downloads/champagne-sales.xlsx\", sheetName=\"Sales\"))"
   ]
  },
  {
   "cell_type": "code",
   "execution_count": 4,
   "metadata": {
    "collapsed": false,
    "scrolled": true
   },
   "outputs": [
    {
     "data": {
      "text/plain": [
       "     Month    Champagne_Sales\n",
       " 1-01   : 1   Min.   : 1573  \n",
       " 1-02   : 1   1st Qu.: 3075  \n",
       " 1-03   : 1   Median : 4084  \n",
       " 1-04   : 1   Mean   : 4802  \n",
       " 1-05   : 1   3rd Qu.: 5221  \n",
       " 1-06   : 1   Max.   :13916  \n",
       " (Other):90                  "
      ]
     },
     "metadata": {},
     "output_type": "display_data"
    }
   ],
   "source": [
    "summary(data)"
   ]
  },
  {
   "cell_type": "code",
   "execution_count": 5,
   "metadata": {
    "collapsed": false
   },
   "outputs": [],
   "source": [
    "source(\"test_train_split.r\")\n",
    "source(\"best_alpha.r\")\n",
    "data_man = data %>% mutate(Month=ymd(paste(\"200\",Month,\"-01\",sep=\"\"))) %>% \n",
    "    arrange(Month)"
   ]
  },
  {
   "cell_type": "code",
   "execution_count": 8,
   "metadata": {
    "collapsed": false,
    "scrolled": false
   },
   "outputs": [
    {
     "name": "stderr",
     "output_type": "stream",
     "text": [
      "Warning message in forecast.Arima(arima, h = nperiods, robust = TRUE):\n",
      "\"The non-existent robust arguments will be ignored.\"Warning message in forecast.Arima(arima, h = nperiods, robust = TRUE):\n",
      "\"The non-existent robust arguments will be ignored.\"Warning message in forecast.Arima(arima, h = nperiods, robust = TRUE):\n",
      "\"The non-existent robust arguments will be ignored.\"Warning message in forecast.Arima(arima, h = nperiods, robust = TRUE):\n",
      "\"The non-existent robust arguments will be ignored.\"Warning message in forecast.Arima(arima, h = nperiods, robust = TRUE):\n",
      "\"The non-existent robust arguments will be ignored.\"Warning message in forecast.Arima(arima, h = nperiods, robust = TRUE):\n",
      "\"The non-existent robust arguments will be ignored.\"Warning message in forecast.Arima(arima, h = nperiods, robust = TRUE):\n",
      "\"The non-existent robust arguments will be ignored.\"Warning message in forecast.Arima(arima, h = nperiods, robust = TRUE):\n",
      "\"The non-existent robust arguments will be ignored.\"Warning message in forecast.Arima(arima, h = nperiods, robust = TRUE):\n",
      "\"The non-existent robust arguments will be ignored.\"Warning message in forecast.Arima(arima, h = nperiods, robust = TRUE):\n",
      "\"The non-existent robust arguments will be ignored.\"Warning message in forecast.Arima(arima, h = nperiods, robust = TRUE):\n",
      "\"The non-existent robust arguments will be ignored.\"Warning message in forecast.Arima(arima, h = nperiods, robust = TRUE):\n",
      "\"The non-existent robust arguments will be ignored.\"Warning message in forecast.Arima(arima, h = nperiods, robust = TRUE):\n",
      "\"The non-existent robust arguments will be ignored.\"Warning message in forecast.Arima(arima, h = nperiods, robust = TRUE):\n",
      "\"The non-existent robust arguments will be ignored.\"Warning message in forecast.Arima(arima, h = nperiods, robust = TRUE):\n",
      "\"The non-existent robust arguments will be ignored.\"Warning message in forecast.Arima(arima, h = nperiods, robust = TRUE):\n",
      "\"The non-existent robust arguments will be ignored.\"Warning message in forecast.Arima(arima, h = nperiods, robust = TRUE):\n",
      "\"The non-existent robust arguments will be ignored.\"Warning message in forecast.Arima(arima, h = nperiods, robust = TRUE):\n",
      "\"The non-existent robust arguments will be ignored.\"Warning message in forecast.Arima(arima, h = nperiods, robust = TRUE):\n",
      "\"The non-existent robust arguments will be ignored.\"Warning message in forecast.Arima(arima, h = nperiods, robust = TRUE):\n",
      "\"The non-existent robust arguments will be ignored.\"Warning message in forecast.Arima(arima, h = nperiods, robust = TRUE):\n",
      "\"The non-existent robust arguments will be ignored.\"Warning message in forecast.Arima(arima, h = nperiods, robust = TRUE):\n",
      "\"The non-existent robust arguments will be ignored.\"Warning message in forecast.Arima(arima, h = nperiods, robust = TRUE):\n",
      "\"The non-existent robust arguments will be ignored.\"Warning message in forecast.Arima(arima, h = nperiods, robust = TRUE):\n",
      "\"The non-existent robust arguments will be ignored.\"Warning message in forecast.Arima(arima, h = nperiods, robust = TRUE):\n",
      "\"The non-existent robust arguments will be ignored.\"Warning message in forecast.Arima(arima, h = nperiods, robust = TRUE):\n",
      "\"The non-existent robust arguments will be ignored.\"Warning message in forecast.Arima(arima, h = nperiods, robust = TRUE):\n",
      "\"The non-existent robust arguments will be ignored.\"Warning message in forecast.Arima(arima, h = nperiods, robust = TRUE):\n",
      "\"The non-existent robust arguments will be ignored.\"Warning message in forecast.Arima(arima, h = nperiods, robust = TRUE):\n",
      "\"The non-existent robust arguments will be ignored.\"Warning message in forecast.Arima(arima, h = nperiods, robust = TRUE):\n",
      "\"The non-existent robust arguments will be ignored.\""
     ]
    }
   ],
   "source": [
    "dfresults=data.frame()\n",
    "for (nperiods in seq(1,30,by=1)){\n",
    "    data_test_train=test_train_slice(data_man,n=nperiods)\n",
    "    data_test = tbl_df(data_test_train$data_test)\n",
    "    data_train =tbl_df(data_test_train$data_train)\n",
    "    data_train_sp = data_train %>% mutate(Year=year(Month),Month=month(Month,label=TRUE)) %>% spread(Month,Champagne_Sales)\n",
    "    data_ts_alt <- ts(data_train,start=c(2001,1),end=c(year(data_train$Month[as.numeric(count(data_train))]),month(data_train$Month[as.numeric(count(data_train))])),frequency=12)\n",
    "    fit1 <- stl(data_ts_alt[,2],  s.window=\"periodic\")\n",
    "    #plot(fit1)\n",
    "    #print(data_ts_alt[,2])\n",
    "    #print(data_train)\n",
    "    #print(data_test)\n",
    "    #alpha=fcn_best_alpha(data_ts_alt,forecast_n=nperiods)\n",
    "    ets <- ets(data_ts_alt[,2],model=\"ZZZ\")\n",
    "    fit21<-forecast(ets,h=nperiods,method=\"ets\",robust=TRUE)\n",
    "    # simple exponential - models level\n",
    "    #fit11 <- HoltWinters(data_ts_alt[,2], beta=FALSE, gamma=FALSE)\n",
    "    # double exponential - models level and trend\n",
    "    #fit12 <- HoltWinters(data_ts_alt[,2], gamma=FALSE)\n",
    "    # triple exponential - models level, trend, and seasonal components\n",
    "    #fit13 <- HoltWinters(data_ts_alt[,2], beta=FALSE, alpha=0.54)\n",
    "\n",
    "    #accuracy(forecast(fit11,6),data_test$Champagne_Sales)\n",
    "    #accuracy(forecast(fit12,6),data_test$Champagne_Sales)\n",
    "    #accuracy(forecast(fit13,6),data_test$Champagne_Sales)\n",
    "    #forecast(fit13,6)\n",
    "    #fit21 <- auto.arima(data_ts_alt[,2])\n",
    "    #forecast(fit21,6)\n",
    "    #accuracy(forecast(fit21,6),data_test$Champagne_Sales)\n",
    "    dfresults=rbind(dfresults,data.frame(nperiods=nperiods,RSME_TEST=accuracy(forecast(fit21,nperiods),data_test$Champagne_Sales)[2,2],\n",
    "                                        RSME_TRAIN=accuracy(forecast(fit21,nperiods),data_test$Champagne_Sales)[1,2],\n",
    "                                        MAE_TEST=accuracy(forecast(fit21,nperiods),data_test$Champagne_Sales)[2,3],\n",
    "                                        MAE_TRAIN=accuracy(forecast(fit21,nperiods),data_test$Champagne_Sales)[1,3],\n",
    "                                        TYPE=\"ETS\"))\n",
    "    arima <- auto.arima(data_ts_alt[,2])\n",
    "    fit21<-forecast(arima,h=nperiods,robust=TRUE)\n",
    "    # simple exponential - models level\n",
    "    #fit11 <- HoltWinters(data_ts_alt[,2], beta=FALSE, gamma=FALSE)\n",
    "    # double exponential - models level and trend\n",
    "    #fit12 <- HoltWinters(data_ts_alt[,2], gamma=FALSE)\n",
    "    # triple exponential - models level, trend, and seasonal components\n",
    "    #fit13 <- HoltWinters(data_ts_alt[,2], beta=FALSE, alpha=0.54)\n",
    "\n",
    "    #accuracy(forecast(fit11,6),data_test$Champagne_Sales)\n",
    "    #accuracy(forecast(fit12,6),data_test$Champagne_Sales)\n",
    "    #accuracy(forecast(fit13,6),data_test$Champagne_Sales)\n",
    "    #forecast(fit13,6)\n",
    "    #fit21 <- auto.arima(data_ts_alt[,2])\n",
    "    #forecast(fit21,6)\n",
    "    #accuracy(forecast(fit21,6),data_test$Champagne_Sales)\n",
    "    dfresults=rbind(dfresults,data.frame(nperiods=nperiods,RSME_TEST=accuracy(forecast(fit21,nperiods),data_test$Champagne_Sales)[2,2],\n",
    "                                        RSME_TRAIN=accuracy(forecast(fit21,nperiods),data_test$Champagne_Sales)[1,2],\n",
    "                                        MAE_TEST=accuracy(forecast(fit21,nperiods),data_test$Champagne_Sales)[2,3],\n",
    "                                        MAE_TRAIN=accuracy(forecast(fit21,nperiods),data_test$Champagne_Sales)[1,3],\n",
    "                                        TYPE=\"ARIMA\"))\n",
    "    #print(autoplot(est.forecast))\n",
    "    #autoplot(forecast(fit13,6))\n",
    "    #print(autoplot(forecast(fit21,nperiods)))\n",
    "    #print(ggplot(data_man,aes(Month,Champagne_Sales))+geom_line())\n",
    "}"
   ]
  },
  {
   "cell_type": "code",
   "execution_count": 9,
   "metadata": {
    "collapsed": false
   },
   "outputs": [
    {
     "data": {
      "image/png": "[encoded data removed]",
      "text/plain": [
       "plot without title"
      ]
     },
     "metadata": {},
     "output_type": "display_data"
    }
   ],
   "source": [
    "print(ggplot(dfresults,aes(nperiods,RSME_TEST, color=TYPE))+geom_point()+geom_path()+geom_path(aes(nperiods,RSME_TRAIN))+geom_path(aes(nperiods,MAE_TEST)))"
   ]
  },
  {
   "cell_type": "code",
   "execution_count": 11,
   "metadata": {
    "collapsed": false
   },
   "outputs": [
    {
     "data": {
      "text/html": [
       "<table>\n",
       "<thead><tr><th></th><th scope=col>nperiods</th><th scope=col>RSME_TEST</th><th scope=col>RSME_TRAIN</th><th scope=col>MAE_TEST</th><th scope=col>MAE_TRAIN</th></tr></thead>\n",
       "<tbody>\n",
       "\t<tr><th scope=row>1</th><td>  1.0000</td><td>389.5629</td><td>589.1239</td><td>389.5629</td><td>427.6339</td></tr>\n",
       "\t<tr><th scope=row>2</th><td>  2.0000</td><td>187.3922</td><td>589.9990</td><td>135.4591</td><td>433.7427</td></tr>\n",
       "\t<tr><th scope=row>3</th><td>  3.0000</td><td>459.5145</td><td>594.7560</td><td>417.8704</td><td>427.1184</td></tr>\n",
       "\t<tr><th scope=row>4</th><td>  4.0000</td><td>861.9699</td><td>615.7876</td><td>810.6154</td><td>439.2048</td></tr>\n",
       "\t<tr><th scope=row>5</th><td>  5.0000</td><td>522.1587</td><td>591.6338</td><td>442.4377</td><td>431.1416</td></tr>\n",
       "\t<tr><th scope=row>6</th><td>  6.0000</td><td>730.2028</td><td>598.0971</td><td>696.6443</td><td>433.4296</td></tr>\n",
       "\t<tr><th scope=row>7</th><td>  7.0000</td><td>732.7411</td><td>616.5083</td><td>685.7240</td><td>439.9967</td></tr>\n",
       "\t<tr><th scope=row>8</th><td>  8.0000</td><td>824.5956</td><td>630.1687</td><td>766.1246</td><td>456.5522</td></tr>\n",
       "\t<tr><th scope=row>9</th><td>  9.0000</td><td>944.7585</td><td>647.6755</td><td>869.1388</td><td>460.2485</td></tr>\n",
       "\t<tr><th scope=row>10</th><td> 10.0000</td><td>908.5017</td><td>630.9258</td><td>811.8613</td><td>452.9895</td></tr>\n",
       "\t<tr><th scope=row>11</th><td> 11.0000</td><td>743.1225</td><td>636.8160</td><td>661.4009</td><td>447.2375</td></tr>\n",
       "\t<tr><th scope=row>12</th><td> 12.0000</td><td>681.2408</td><td>641.6744</td><td>583.1322</td><td>450.0909</td></tr>\n",
       "\t<tr><th scope=row>13</th><td>  13.0000</td><td>1068.3399</td><td> 616.1911</td><td> 870.9273</td><td> 442.5039</td></tr>\n",
       "\t<tr><th scope=row>14</th><td>  14.0000</td><td>1187.9457</td><td> 607.7076</td><td> 982.0172</td><td> 429.9027</td></tr>\n",
       "\t<tr><th scope=row>15</th><td>  15.0000</td><td>1237.9481</td><td> 607.5613</td><td>1019.2696</td><td> 430.1280</td></tr>\n",
       "\t<tr><th scope=row>16</th><td>  16.0000</td><td>2668.4309</td><td> 617.0278</td><td>2143.7312</td><td> 427.9341</td></tr>\n",
       "\t<tr><th scope=row>17</th><td>  17.0000</td><td>1276.9353</td><td> 605.7796</td><td>1037.7423</td><td> 423.8062</td></tr>\n",
       "\t<tr><th scope=row>18</th><td>  18.0000</td><td>1563.3928</td><td> 592.8992</td><td>1271.2962</td><td> 416.8860</td></tr>\n",
       "\t<tr><th scope=row>19</th><td>  19.0000</td><td>1495.7091</td><td> 601.5024</td><td>1186.8833</td><td> 423.9123</td></tr>\n",
       "\t<tr><th scope=row>20</th><td>  20.0000</td><td>1226.3445</td><td> 583.6497</td><td> 992.1857</td><td> 403.4697</td></tr>\n",
       "\t<tr><th scope=row>21</th><td>  21.000</td><td>1734.014</td><td> 615.997</td><td>1324.809</td><td> 400.239</td></tr>\n",
       "\t<tr><th scope=row>22</th><td> 22.0000</td><td>932.2149</td><td>538.0117</td><td>770.6284</td><td>361.7279</td></tr>\n",
       "\t<tr><th scope=row>23</th><td>  23.0000</td><td>1075.0461</td><td> 501.1747</td><td> 918.5699</td><td> 347.8278</td></tr>\n",
       "\t<tr><th scope=row>24</th><td>  24.0000</td><td>1179.8375</td><td> 445.8930</td><td> 999.0235</td><td> 324.5467</td></tr>\n",
       "\t<tr><th scope=row>25</th><td>  25.0000</td><td>1187.9494</td><td> 410.2696</td><td> 988.3260</td><td> 306.4625</td></tr>\n",
       "\t<tr><th scope=row>26</th><td>  26.0000</td><td>1135.5907</td><td> 385.3037</td><td> 958.4497</td><td> 292.8147</td></tr>\n",
       "\t<tr><th scope=row>27</th><td>  27.0000</td><td>1119.2930</td><td> 391.2923</td><td> 925.2303</td><td> 298.2314</td></tr>\n",
       "\t<tr><th scope=row>28</th><td>  28.0000</td><td>1632.1293</td><td> 412.6901</td><td>1284.1429</td><td> 315.9026</td></tr>\n",
       "\t<tr><th scope=row>29</th><td>  29.0000</td><td>1114.3781</td><td> 391.9414</td><td> 918.2064</td><td> 295.2376</td></tr>\n",
       "\t<tr><th scope=row>30</th><td>  30.0000</td><td>1135.6395</td><td> 379.0064</td><td> 943.8954</td><td> 282.1663</td></tr>\n",
       "</tbody>\n",
       "</table>\n"
      ],
      "text/latex": [
       "\\begin{tabular}{r|lllll}\n",
       "  & nperiods & RSME\\_TEST & RSME\\_TRAIN & MAE\\_TEST & MAE\\_TRAIN\\\\\n",
       "\\hline\n",
       "\t1 &   1.0000 & 389.5629 & 589.1239 & 389.5629 & 427.6339\\\\\n",
       "\t2 &   2.0000 & 187.3922 & 589.9990 & 135.4591 & 433.7427\\\\\n",
       "\t3 &   3.0000 & 459.5145 & 594.7560 & 417.8704 & 427.1184\\\\\n",
       "\t4 &   4.0000 & 861.9699 & 615.7876 & 810.6154 & 439.2048\\\\\n",
       "\t5 &   5.0000 & 522.1587 & 591.6338 & 442.4377 & 431.1416\\\\\n",
       "\t6 &   6.0000 & 730.2028 & 598.0971 & 696.6443 & 433.4296\\\\\n",
       "\t7 &   7.0000 & 732.7411 & 616.5083 & 685.7240 & 439.9967\\\\\n",
       "\t8 &   8.0000 & 824.5956 & 630.1687 & 766.1246 & 456.5522\\\\\n",
       "\t9 &   9.0000 & 944.7585 & 647.6755 & 869.1388 & 460.2485\\\\\n",
       "\t10 &  10.0000 & 908.5017 & 630.9258 & 811.8613 & 452.9895\\\\\n",
       "\t11 &  11.0000 & 743.1225 & 636.8160 & 661.4009 & 447.2375\\\\\n",
       "\t12 &  12.0000 & 681.2408 & 641.6744 & 583.1322 & 450.0909\\\\\n",
       "\t13 &   13.0000 & 1068.3399 &  616.1911 &  870.9273 &  442.5039\\\\\n",
       "\t14 &   14.0000 & 1187.9457 &  607.7076 &  982.0172 &  429.9027\\\\\n",
       "\t15 &   15.0000 & 1237.9481 &  607.5613 & 1019.2696 &  430.1280\\\\\n",
       "\t16 &   16.0000 & 2668.4309 &  617.0278 & 2143.7312 &  427.9341\\\\\n",
       "\t17 &   17.0000 & 1276.9353 &  605.7796 & 1037.7423 &  423.8062\\\\\n",
       "\t18 &   18.0000 & 1563.3928 &  592.8992 & 1271.2962 &  416.8860\\\\\n",
       "\t19 &   19.0000 & 1495.7091 &  601.5024 & 1186.8833 &  423.9123\\\\\n",
       "\t20 &   20.0000 & 1226.3445 &  583.6497 &  992.1857 &  403.4697\\\\\n",
       "\t21 &   21.000 & 1734.014 &  615.997 & 1324.809 &  400.239\\\\\n",
       "\t22 &  22.0000 & 932.2149 & 538.0117 & 770.6284 & 361.7279\\\\\n",
       "\t23 &   23.0000 & 1075.0461 &  501.1747 &  918.5699 &  347.8278\\\\\n",
       "\t24 &   24.0000 & 1179.8375 &  445.8930 &  999.0235 &  324.5467\\\\\n",
       "\t25 &   25.0000 & 1187.9494 &  410.2696 &  988.3260 &  306.4625\\\\\n",
       "\t26 &   26.0000 & 1135.5907 &  385.3037 &  958.4497 &  292.8147\\\\\n",
       "\t27 &   27.0000 & 1119.2930 &  391.2923 &  925.2303 &  298.2314\\\\\n",
       "\t28 &   28.0000 & 1632.1293 &  412.6901 & 1284.1429 &  315.9026\\\\\n",
       "\t29 &   29.0000 & 1114.3781 &  391.9414 &  918.2064 &  295.2376\\\\\n",
       "\t30 &   30.0000 & 1135.6395 &  379.0064 &  943.8954 &  282.1663\\\\\n",
       "\\end{tabular}\n"
      ],
      "text/plain": [
       "   nperiods RSME_TEST RSME_TRAIN  MAE_TEST MAE_TRAIN\n",
       "1         1  389.5629   589.1239  389.5629  427.6339\n",
       "2         2  187.3922   589.9990  135.4591  433.7427\n",
       "3         3  459.5145   594.7560  417.8704  427.1184\n",
       "4         4  861.9699   615.7876  810.6154  439.2048\n",
       "5         5  522.1587   591.6338  442.4377  431.1416\n",
       "6         6  730.2028   598.0971  696.6443  433.4296\n",
       "7         7  732.7411   616.5083  685.7240  439.9967\n",
       "8         8  824.5956   630.1687  766.1246  456.5522\n",
       "9         9  944.7585   647.6755  869.1388  460.2485\n",
       "10       10  908.5017   630.9258  811.8613  452.9895\n",
       "11       11  743.1225   636.8160  661.4009  447.2375\n",
       "12       12  681.2408   641.6744  583.1322  450.0909\n",
       "13       13 1068.3399   616.1911  870.9273  442.5039\n",
       "14       14 1187.9457   607.7076  982.0172  429.9027\n",
       "15       15 1237.9481   607.5613 1019.2696  430.1280\n",
       "16       16 2668.4309   617.0278 2143.7312  427.9341\n",
       "17       17 1276.9353   605.7796 1037.7423  423.8062\n",
       "18       18 1563.3928   592.8992 1271.2962  416.8860\n",
       "19       19 1495.7091   601.5024 1186.8833  423.9123\n",
       "20       20 1226.3445   583.6497  992.1857  403.4697\n",
       "21       21 1734.0140   615.9970 1324.8089  400.2390\n",
       "22       22  932.2149   538.0117  770.6284  361.7279\n",
       "23       23 1075.0461   501.1747  918.5699  347.8278\n",
       "24       24 1179.8375   445.8930  999.0235  324.5467\n",
       "25       25 1187.9494   410.2696  988.3260  306.4625\n",
       "26       26 1135.5907   385.3037  958.4497  292.8147\n",
       "27       27 1119.2930   391.2923  925.2303  298.2314\n",
       "28       28 1632.1293   412.6901 1284.1429  315.9026\n",
       "29       29 1114.3781   391.9414  918.2064  295.2376\n",
       "30       30 1135.6395   379.0064  943.8954  282.1663"
      ]
     },
     "metadata": {},
     "output_type": "display_data"
    }
   ],
   "source": [
    "dfresults"
   ]
  },
  {
   "cell_type": "code",
   "execution_count": null,
   "metadata": {
    "collapsed": true
   },
   "outputs": [],
   "source": []
  }
 ],
 "metadata": {
  "anaconda-cloud": {},
  "kernelspec": {
   "display_name": "R",
   "language": "R",
   "name": "ir"
  },
  "language_info": {
   "codemirror_mode": "r",
   "file_extension": ".r",
   "mimetype": "text/x-r-source",
   "name": "R",
   "pygments_lexer": "r",
   "version": "3.3.1"
  }
 },
 "nbformat": 4,
 "nbformat_minor": 1
}
