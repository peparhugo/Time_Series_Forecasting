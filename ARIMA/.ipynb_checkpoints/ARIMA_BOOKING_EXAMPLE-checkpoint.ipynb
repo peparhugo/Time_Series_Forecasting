{
 "cells": [
  {
   "cell_type": "code",
   "execution_count": 12,
   "metadata": {
    "collapsed": false
   },
   "outputs": [
    {
     "name": "stderr",
     "output_type": "stream",
     "text": [
      "Loading required package: forecast\n",
      "Loading required package: zoo\n",
      "\n",
      "Attaching package: 'zoo'\n",
      "\n",
      "The following objects are masked from 'package:base':\n",
      "\n",
      "    as.Date, as.Date.numeric\n",
      "\n",
      "Loading required package: timeDate\n",
      "This is forecast 7.1 \n",
      "\n"
     ]
    }
   ],
   "source": [
    "require(ggplot2)\n",
    "require(forecast)"
   ]
  },
  {
   "cell_type": "code",
   "execution_count": 3,
   "metadata": {
    "collapsed": false
   },
   "outputs": [],
   "source": [
    "x=read.csv(\"c:/users/pepar/downloads/bookings.csv\",header=TRUE)"
   ]
  },
  {
   "cell_type": "code",
   "execution_count": null,
   "metadata": {
    "collapsed": true
   },
   "outputs": [],
   "source": [
    "x[,4]<-as.Date(x[,4],format=\"%Y-%m-%d\")"
   ]
  },
  {
   "cell_type": "code",
   "execution_count": 104,
   "metadata": {
    "collapsed": false
   },
   "outputs": [
    {
     "data": {
      "text/html": [
       "<table>\n",
       "<thead><tr><th></th><th scope=col>Bookings</th></tr></thead>\n",
       "<tbody>\n",
       "\t<tr><th scope=row>1</th><td>383</td></tr>\n",
       "\t<tr><th scope=row>2</th><td>366</td></tr>\n",
       "\t<tr><th scope=row>3</th><td>250</td></tr>\n",
       "\t<tr><th scope=row>4</th><td>318</td></tr>\n",
       "\t<tr><th scope=row>5</th><td>334</td></tr>\n",
       "\t<tr><th scope=row>6</th><td>397</td></tr>\n",
       "\t<tr><th scope=row>7</th><td>575</td></tr>\n",
       "\t<tr><th scope=row>8</th><td>701</td></tr>\n",
       "\t<tr><th scope=row>9</th><td>506</td></tr>\n",
       "\t<tr><th scope=row>10</th><td>335</td></tr>\n",
       "\t<tr><th scope=row>11</th><td>372</td></tr>\n",
       "\t<tr><th scope=row>12</th><td>580</td></tr>\n",
       "\t<tr><th scope=row>13</th><td>751</td></tr>\n",
       "\t<tr><th scope=row>14</th><td>498</td></tr>\n",
       "\t<tr><th scope=row>15</th><td>649</td></tr>\n",
       "\t<tr><th scope=row>16</th><td>478</td></tr>\n",
       "\t<tr><th scope=row>17</th><td>606</td></tr>\n",
       "\t<tr><th scope=row>18</th><td>980</td></tr>\n",
       "\t<tr><th scope=row>19</th><td>1137</td></tr>\n",
       "\t<tr><th scope=row>20</th><td>1280</td></tr>\n",
       "\t<tr><th scope=row>21</th><td>987</td></tr>\n",
       "\t<tr><th scope=row>22</th><td>723</td></tr>\n",
       "\t<tr><th scope=row>23</th><td>545</td></tr>\n",
       "\t<tr><th scope=row>24</th><td>731</td></tr>\n",
       "\t<tr><th scope=row>25</th><td>1615</td></tr>\n",
       "\t<tr><th scope=row>26</th><td>1219</td></tr>\n",
       "\t<tr><th scope=row>27</th><td>940</td></tr>\n",
       "\t<tr><th scope=row>28</th><td>670</td></tr>\n",
       "\t<tr><th scope=row>29</th><td>972</td></tr>\n",
       "\t<tr><th scope=row>30</th><td>1543</td></tr>\n",
       "\t<tr><th scope=row>...</th><td>...</td></tr>\n",
       "\t<tr><th scope=row>32</th><td>11878</td></tr>\n",
       "\t<tr><th scope=row>33</th><td>9398</td></tr>\n",
       "\t<tr><th scope=row>34</th><td>8083</td></tr>\n",
       "\t<tr><th scope=row>35</th><td>5634</td></tr>\n",
       "\t<tr><th scope=row>36</th><td>7675</td></tr>\n",
       "\t<tr><th scope=row>37</th><td>10328</td></tr>\n",
       "\t<tr><th scope=row>38</th><td>10539</td></tr>\n",
       "\t<tr><th scope=row>39</th><td>15578</td></tr>\n",
       "\t<tr><th scope=row>40</th><td>11067</td></tr>\n",
       "\t<tr><th scope=row>41</th><td>7534</td></tr>\n",
       "\t<tr><th scope=row>42</th><td>7023</td></tr>\n",
       "\t<tr><th scope=row>43</th><td>10733</td></tr>\n",
       "\t<tr><th scope=row>44</th><td>11853</td></tr>\n",
       "\t<tr><th scope=row>45</th><td>10716</td></tr>\n",
       "\t<tr><th scope=row>46</th><td>7405</td></tr>\n",
       "\t<tr><th scope=row>47</th><td>7009</td></tr>\n",
       "\t<tr><th scope=row>48</th><td>8340</td></tr>\n",
       "\t<tr><th scope=row>49</th><td>12437</td></tr>\n",
       "\t<tr><th scope=row>50</th><td>12269</td></tr>\n",
       "\t<tr><th scope=row>51</th><td>17367</td></tr>\n",
       "\t<tr><th scope=row>52</th><td>10116</td></tr>\n",
       "\t<tr><th scope=row>53</th><td>10479</td></tr>\n",
       "\t<tr><th scope=row>54</th><td>9874</td></tr>\n",
       "\t<tr><th scope=row>55</th><td>13080</td></tr>\n",
       "\t<tr><th scope=row>56</th><td>12734</td></tr>\n",
       "\t<tr><th scope=row>57</th><td>12876</td></tr>\n",
       "\t<tr><th scope=row>58</th><td>9012</td></tr>\n",
       "\t<tr><th scope=row>59</th><td>7730</td></tr>\n",
       "\t<tr><th scope=row>60</th><td>9102</td></tr>\n",
       "\t<tr><th scope=row>61</th><td>12055</td></tr>\n",
       "</tbody>\n",
       "</table>\n"
      ],
      "text/latex": [
       "\\begin{tabular}{r|l}\n",
       "  & Bookings\\\\\n",
       "\\hline\n",
       "\t1 & 383\\\\\n",
       "\t2 & 366\\\\\n",
       "\t3 & 250\\\\\n",
       "\t4 & 318\\\\\n",
       "\t5 & 334\\\\\n",
       "\t6 & 397\\\\\n",
       "\t7 & 575\\\\\n",
       "\t8 & 701\\\\\n",
       "\t9 & 506\\\\\n",
       "\t10 & 335\\\\\n",
       "\t11 & 372\\\\\n",
       "\t12 & 580\\\\\n",
       "\t13 & 751\\\\\n",
       "\t14 & 498\\\\\n",
       "\t15 & 649\\\\\n",
       "\t16 & 478\\\\\n",
       "\t17 & 606\\\\\n",
       "\t18 & 980\\\\\n",
       "\t19 & 1137\\\\\n",
       "\t20 & 1280\\\\\n",
       "\t21 & 987\\\\\n",
       "\t22 & 723\\\\\n",
       "\t23 & 545\\\\\n",
       "\t24 & 731\\\\\n",
       "\t25 & 1615\\\\\n",
       "\t26 & 1219\\\\\n",
       "\t27 & 940\\\\\n",
       "\t28 & 670\\\\\n",
       "\t29 & 972\\\\\n",
       "\t30 & 1543\\\\\n",
       "\t... & ...\\\\\n",
       "\t32 & 11878\\\\\n",
       "\t33 & 9398\\\\\n",
       "\t34 & 8083\\\\\n",
       "\t35 & 5634\\\\\n",
       "\t36 & 7675\\\\\n",
       "\t37 & 10328\\\\\n",
       "\t38 & 10539\\\\\n",
       "\t39 & 15578\\\\\n",
       "\t40 & 11067\\\\\n",
       "\t41 & 7534\\\\\n",
       "\t42 & 7023\\\\\n",
       "\t43 & 10733\\\\\n",
       "\t44 & 11853\\\\\n",
       "\t45 & 10716\\\\\n",
       "\t46 & 7405\\\\\n",
       "\t47 & 7009\\\\\n",
       "\t48 & 8340\\\\\n",
       "\t49 & 12437\\\\\n",
       "\t50 & 12269\\\\\n",
       "\t51 & 17367\\\\\n",
       "\t52 & 10116\\\\\n",
       "\t53 & 10479\\\\\n",
       "\t54 & 9874\\\\\n",
       "\t55 & 13080\\\\\n",
       "\t56 & 12734\\\\\n",
       "\t57 & 12876\\\\\n",
       "\t58 & 9012\\\\\n",
       "\t59 & 7730\\\\\n",
       "\t60 & 9102\\\\\n",
       "\t61 & 12055\\\\\n",
       "\\end{tabular}\n"
      ],
      "text/plain": [
       "Source: local data frame [61 x 1]\n",
       "\n",
       "   Bookings\n",
       "      (chr)\n",
       "1       383\n",
       "2       366\n",
       "3       250\n",
       "4       318\n",
       "5       334\n",
       "6       397\n",
       "7       575\n",
       "8       701\n",
       "9       506\n",
       "10      335\n",
       "..      ..."
      ]
     },
     "metadata": {},
     "output_type": "display_data"
    },
    {
     "data": {
      "text/html": [
       "<table>\n",
       "<thead><tr><th scope=col>Bookings</th><th scope=col>datMonth</th></tr></thead>\n",
       "<tbody>\n",
       "\t<tr><td>383  </td><td>13149</td></tr>\n",
       "\t<tr><td>366  </td><td>13180</td></tr>\n",
       "\t<tr><td>250  </td><td>13208</td></tr>\n",
       "\t<tr><td>318  </td><td>13239</td></tr>\n",
       "\t<tr><td>334  </td><td>13269</td></tr>\n",
       "\t<tr><td>397  </td><td>13300</td></tr>\n",
       "\t<tr><td>575  </td><td>13330</td></tr>\n",
       "\t<tr><td>701  </td><td>13361</td></tr>\n",
       "\t<tr><td>506  </td><td>13392</td></tr>\n",
       "\t<tr><td>335  </td><td>13422</td></tr>\n",
       "\t<tr><td>372  </td><td>13453</td></tr>\n",
       "\t<tr><td>580  </td><td>13483</td></tr>\n",
       "\t<tr><td>751  </td><td>13514</td></tr>\n",
       "\t<tr><td>498  </td><td>13545</td></tr>\n",
       "\t<tr><td>649  </td><td>13573</td></tr>\n",
       "\t<tr><td>478  </td><td>13604</td></tr>\n",
       "\t<tr><td>606  </td><td>13634</td></tr>\n",
       "\t<tr><td>980  </td><td>13665</td></tr>\n",
       "\t<tr><td>1137 </td><td>13695</td></tr>\n",
       "\t<tr><td>1280 </td><td>13726</td></tr>\n",
       "\t<tr><td>987  </td><td>13757</td></tr>\n",
       "\t<tr><td>723  </td><td>13787</td></tr>\n",
       "\t<tr><td>545  </td><td>13818</td></tr>\n",
       "\t<tr><td>731  </td><td>13848</td></tr>\n",
       "\t<tr><td>1615 </td><td>13879</td></tr>\n",
       "\t<tr><td>1219 </td><td>13910</td></tr>\n",
       "\t<tr><td>940  </td><td>13939</td></tr>\n",
       "\t<tr><td>670  </td><td>13970</td></tr>\n",
       "\t<tr><td>972  </td><td>14000</td></tr>\n",
       "\t<tr><td>1543 </td><td>14031</td></tr>\n",
       "\t<tr><td>...</td><td>...</td></tr>\n",
       "\t<tr><td>11878</td><td>15706</td></tr>\n",
       "\t<tr><td>9398 </td><td>15737</td></tr>\n",
       "\t<tr><td>8083 </td><td>15765</td></tr>\n",
       "\t<tr><td>5634 </td><td>15796</td></tr>\n",
       "\t<tr><td>7675 </td><td>15826</td></tr>\n",
       "\t<tr><td>10328</td><td>15857</td></tr>\n",
       "\t<tr><td>10539</td><td>15887</td></tr>\n",
       "\t<tr><td>15578</td><td>15918</td></tr>\n",
       "\t<tr><td>11067</td><td>15949</td></tr>\n",
       "\t<tr><td>7534 </td><td>15979</td></tr>\n",
       "\t<tr><td>7023 </td><td>16010</td></tr>\n",
       "\t<tr><td>10733</td><td>16040</td></tr>\n",
       "\t<tr><td>11853</td><td>16071</td></tr>\n",
       "\t<tr><td>10716</td><td>16102</td></tr>\n",
       "\t<tr><td>7405 </td><td>16130</td></tr>\n",
       "\t<tr><td>7009 </td><td>16161</td></tr>\n",
       "\t<tr><td>8340 </td><td>16191</td></tr>\n",
       "\t<tr><td>12437</td><td>16222</td></tr>\n",
       "\t<tr><td>12269</td><td>16252</td></tr>\n",
       "\t<tr><td>17367</td><td>16283</td></tr>\n",
       "\t<tr><td>10116</td><td>16314</td></tr>\n",
       "\t<tr><td>10479</td><td>16344</td></tr>\n",
       "\t<tr><td>9874 </td><td>16375</td></tr>\n",
       "\t<tr><td>13080</td><td>16405</td></tr>\n",
       "\t<tr><td>12734</td><td>16436</td></tr>\n",
       "\t<tr><td>12876</td><td>16467</td></tr>\n",
       "\t<tr><td>9012 </td><td>16495</td></tr>\n",
       "\t<tr><td>7730 </td><td>16526</td></tr>\n",
       "\t<tr><td>9102 </td><td>16556</td></tr>\n",
       "\t<tr><td>12055</td><td>16587</td></tr>\n",
       "</tbody>\n",
       "</table>\n"
      ],
      "text/latex": [
       "\\begin{tabular}{ll}\n",
       " Bookings & datMonth\\\\\n",
       "\\hline\n",
       "\t 383   & 13149\\\\\n",
       "\t 366   & 13180\\\\\n",
       "\t 250   & 13208\\\\\n",
       "\t 318   & 13239\\\\\n",
       "\t 334   & 13269\\\\\n",
       "\t 397   & 13300\\\\\n",
       "\t 575   & 13330\\\\\n",
       "\t 701   & 13361\\\\\n",
       "\t 506   & 13392\\\\\n",
       "\t 335   & 13422\\\\\n",
       "\t 372   & 13453\\\\\n",
       "\t 580   & 13483\\\\\n",
       "\t 751   & 13514\\\\\n",
       "\t 498   & 13545\\\\\n",
       "\t 649   & 13573\\\\\n",
       "\t 478   & 13604\\\\\n",
       "\t 606   & 13634\\\\\n",
       "\t 980   & 13665\\\\\n",
       "\t 1137  & 13695\\\\\n",
       "\t 1280  & 13726\\\\\n",
       "\t 987   & 13757\\\\\n",
       "\t 723   & 13787\\\\\n",
       "\t 545   & 13818\\\\\n",
       "\t 731   & 13848\\\\\n",
       "\t 1615  & 13879\\\\\n",
       "\t 1219  & 13910\\\\\n",
       "\t 940   & 13939\\\\\n",
       "\t 670   & 13970\\\\\n",
       "\t 972   & 14000\\\\\n",
       "\t 1543  & 14031\\\\\n",
       "\t ... & ...\\\\\n",
       "\t 11878 & 15706\\\\\n",
       "\t 9398  & 15737\\\\\n",
       "\t 8083  & 15765\\\\\n",
       "\t 5634  & 15796\\\\\n",
       "\t 7675  & 15826\\\\\n",
       "\t 10328 & 15857\\\\\n",
       "\t 10539 & 15887\\\\\n",
       "\t 15578 & 15918\\\\\n",
       "\t 11067 & 15949\\\\\n",
       "\t 7534  & 15979\\\\\n",
       "\t 7023  & 16010\\\\\n",
       "\t 10733 & 16040\\\\\n",
       "\t 11853 & 16071\\\\\n",
       "\t 10716 & 16102\\\\\n",
       "\t 7405  & 16130\\\\\n",
       "\t 7009  & 16161\\\\\n",
       "\t 8340  & 16191\\\\\n",
       "\t 12437 & 16222\\\\\n",
       "\t 12269 & 16252\\\\\n",
       "\t 17367 & 16283\\\\\n",
       "\t 10116 & 16314\\\\\n",
       "\t 10479 & 16344\\\\\n",
       "\t 9874  & 16375\\\\\n",
       "\t 13080 & 16405\\\\\n",
       "\t 12734 & 16436\\\\\n",
       "\t 12876 & 16467\\\\\n",
       "\t 9012  & 16495\\\\\n",
       "\t 7730  & 16526\\\\\n",
       "\t 9102  & 16556\\\\\n",
       "\t 12055 & 16587\\\\\n",
       "\\end{tabular}\n"
      ],
      "text/plain": [
       "      Bookings datMonth\n",
       " [1,] \"383\"    \"13149\" \n",
       " [2,] \"366\"    \"13180\" \n",
       " [3,] \"250\"    \"13208\" \n",
       " [4,] \"318\"    \"13239\" \n",
       " [5,] \"334\"    \"13269\" \n",
       " [6,] \"397\"    \"13300\" \n",
       " [7,] \"575\"    \"13330\" \n",
       " [8,] \"701\"    \"13361\" \n",
       " [9,] \"506\"    \"13392\" \n",
       "[10,] \"335\"    \"13422\" \n",
       "[11,] \"372\"    \"13453\" \n",
       "[12,] \"580\"    \"13483\" \n",
       "[13,] \"751\"    \"13514\" \n",
       "[14,] \"498\"    \"13545\" \n",
       "[15,] \"649\"    \"13573\" \n",
       "[16,] \"478\"    \"13604\" \n",
       "[17,] \"606\"    \"13634\" \n",
       "[18,] \"980\"    \"13665\" \n",
       "[19,] \"1137\"   \"13695\" \n",
       "[20,] \"1280\"   \"13726\" \n",
       "[21,] \"987\"    \"13757\" \n",
       "[22,] \"723\"    \"13787\" \n",
       "[23,] \"545\"    \"13818\" \n",
       "[24,] \"731\"    \"13848\" \n",
       "[25,] \"1615\"   \"13879\" \n",
       "[26,] \"1219\"   \"13910\" \n",
       "[27,] \"940\"    \"13939\" \n",
       "[28,] \"670\"    \"13970\" \n",
       "[29,] \"972\"    \"14000\" \n",
       "[30,] \"1543\"   \"14031\" \n",
       "[31,] \"...\"    \"...\"   \n",
       "[32,] \"11878\"  \"15706\" \n",
       "[33,] \"9398\"   \"15737\" \n",
       "[34,] \"8083\"   \"15765\" \n",
       "[35,] \"5634\"   \"15796\" \n",
       "[36,] \"7675\"   \"15826\" \n",
       "[37,] \"10328\"  \"15857\" \n",
       "[38,] \"10539\"  \"15887\" \n",
       "[39,] \"15578\"  \"15918\" \n",
       "[40,] \"11067\"  \"15949\" \n",
       "[41,] \"7534\"   \"15979\" \n",
       "[42,] \"7023\"   \"16010\" \n",
       "[43,] \"10733\"  \"16040\" \n",
       "[44,] \"11853\"  \"16071\" \n",
       "[45,] \"10716\"  \"16102\" \n",
       "[46,] \"7405\"   \"16130\" \n",
       "[47,] \"7009\"   \"16161\" \n",
       "[48,] \"8340\"   \"16191\" \n",
       "[49,] \"12437\"  \"16222\" \n",
       "[50,] \"12269\"  \"16252\" \n",
       "[51,] \"17367\"  \"16283\" \n",
       "[52,] \"10116\"  \"16314\" \n",
       "[53,] \"10479\"  \"16344\" \n",
       "[54,] \"9874\"   \"16375\" \n",
       "[55,] \"13080\"  \"16405\" \n",
       "[56,] \"12734\"  \"16436\" \n",
       "[57,] \"12876\"  \"16467\" \n",
       "[58,] \"9012\"   \"16495\" \n",
       "[59,] \"7730\"   \"16526\" \n",
       "[60,] \"9102\"   \"16556\" \n",
       "[61,] \"12055\"  \"16587\" "
      ]
     },
     "metadata": {},
     "output_type": "display_data"
    }
   ],
   "source": [
    "source(\"test_train_split.r\")\n",
    "list_x<-test_train_slice(x,n=6)\n",
    "x_train<-list_x$data_train\n",
    "x_train[,3]\n",
    "data<-ts(x_train[,3:4],start=c(2006,1),end=c(2015,6),frequency=12)\n",
    "data"
   ]
  },
  {
   "cell_type": "code",
   "execution_count": 108,
   "metadata": {
    "collapsed": false
   },
   "outputs": [
    {
     "data": {},
     "metadata": {},
     "output_type": "display_data"
    },
    {
     "data": {
      "image/png": "[encoded data removed]",
      "text/plain": [
       "plot without title"
      ]
     },
     "metadata": {},
     "output_type": "display_data"
    }
   ],
   "source": [
    "decomp<-stl(data[,1],s.window=\"per\")\n",
    "autoplot(decomp)"
   ]
  },
  {
   "cell_type": "code",
   "execution_count": 167,
   "metadata": {
    "collapsed": false
   },
   "outputs": [
    {
     "data": {
      "image/png": "[encoded data removed]",
      "text/plain": [
       "plot without title"
      ]
     },
     "metadata": {},
     "output_type": "display_data"
    },
    {
     "data": {
      "image/png": "[encoded data removed]",
      "text/plain": [
       "Plot with title \"Series  data[, 1]\""
      ]
     },
     "metadata": {},
     "output_type": "display_data"
    },
    {
     "data": {
      "image/png": "[encoded data removed]",
      "text/plain": [
       "Plot with title \"Series  data[, 1]\""
      ]
     },
     "metadata": {},
     "output_type": "display_data"
    },
    {
     "data": {},
     "metadata": {},
     "output_type": "display_data"
    },
    {
     "data": {
      "image/png": "[encoded data removed]",
      "text/plain": [
       "plot without title"
      ]
     },
     "metadata": {},
     "output_type": "display_data"
    },
    {
     "data": {
      "image/png": "[encoded data removed]",
      "text/plain": [
       "plot without title"
      ]
     },
     "metadata": {},
     "output_type": "display_data"
    }
   ],
   "source": [
    "plot.ts(data[,1])\n",
    "\n",
    "acf(data[,1])\n",
    "pacf(data[,1])\n",
    "plot(diff(data[,1],lag=12,differences=7))\n",
    "autoplot(diff(data[,1],lag=12,differences=8))"
   ]
  },
  {
   "cell_type": "code",
   "execution_count": 185,
   "metadata": {
    "collapsed": false
   },
   "outputs": [],
   "source": [
    "fit<-arima(data[,1], order = c(1, 0, 0),\n",
    "      seasonal = list(order = c(1, 1, 0)))"
   ]
  },
  {
   "cell_type": "code",
   "execution_count": 187,
   "metadata": {
    "collapsed": false
   },
   "outputs": [
    {
     "data": {
      "text/plain": [
       "\n",
       "Call:\n",
       "arima(x = data[, 1], order = c(1, 0, 0), seasonal = list(order = c(1, 1, 0)))\n",
       "\n",
       "Coefficients:\n",
       "         ar1     sar1\n",
       "      0.7901  -0.2321\n",
       "s.e.  0.0657   0.1082\n",
       "\n",
       "sigma^2 estimated as 1536344:  log likelihood = -872.03,  aic = 1750.06"
      ]
     },
     "metadata": {},
     "output_type": "display_data"
    }
   ],
   "source": [
    "fit"
   ]
  },
  {
   "cell_type": "code",
   "execution_count": 169,
   "metadata": {
    "collapsed": false
   },
   "outputs": [
    {
     "data": {
      "text/html": [
       "<table>\n",
       "<thead><tr><th></th><th scope=col>Year</th><th scope=col>Month</th><th scope=col>Bookings</th><th scope=col>datMonth</th></tr></thead>\n",
       "<tbody>\n",
       "\t<tr><th scope=row>1</th><td>2015 </td><td>Jul  </td><td>13496</td><td>16617</td></tr>\n",
       "\t<tr><th scope=row>2</th><td>2015 </td><td>Aug  </td><td>18478</td><td>16648</td></tr>\n",
       "\t<tr><th scope=row>3</th><td>2015 </td><td>Sep  </td><td>12004</td><td>16679</td></tr>\n",
       "\t<tr><th scope=row>4</th><td>2015 </td><td>Oct  </td><td>9789 </td><td>16709</td></tr>\n",
       "\t<tr><th scope=row>5</th><td>2015 </td><td>Nov  </td><td>10003</td><td>16740</td></tr>\n",
       "\t<tr><th scope=row>6</th><td>2015 </td><td>Dec  </td><td>13304</td><td>16770</td></tr>\n",
       "</tbody>\n",
       "</table>\n"
      ],
      "text/latex": [
       "\\begin{tabular}{r|llll}\n",
       "  & Year & Month & Bookings & datMonth\\\\\n",
       "\\hline\n",
       "\t1 & 2015  & Jul   & 13496 & 16617\\\\\n",
       "\t2 & 2015  & Aug   & 18478 & 16648\\\\\n",
       "\t3 & 2015  & Sep   & 12004 & 16679\\\\\n",
       "\t4 & 2015  & Oct   & 9789  & 16709\\\\\n",
       "\t5 & 2015  & Nov   & 10003 & 16740\\\\\n",
       "\t6 & 2015  & Dec   & 13304 & 16770\\\\\n",
       "\\end{tabular}\n"
      ],
      "text/plain": [
       "  Year Month Bookings   datMonth\n",
       "1 2015   Jul    13496 2015-07-01\n",
       "2 2015   Aug    18478 2015-08-01\n",
       "3 2015   Sep    12004 2015-09-01\n",
       "4 2015   Oct     9789 2015-10-01\n",
       "5 2015   Nov    10003 2015-11-01\n",
       "6 2015   Dec    13304 2015-12-01"
      ]
     },
     "metadata": {},
     "output_type": "display_data"
    }
   ],
   "source": [
    "list_x$data_test"
   ]
  },
  {
   "cell_type": "code",
   "execution_count": 186,
   "metadata": {
    "collapsed": false
   },
   "outputs": [
    {
     "data": {
      "text/plain": [
       "         Point Forecast     Lo 80    Hi 80     Lo 95    Hi 95\n",
       "Jul 2015      11952.407 10363.933 13540.88  9523.045 14381.77\n",
       "Aug 2015      17018.896 14994.406 19043.39 13922.706 20115.09\n",
       "Sep 2015      10389.715  8135.375 12644.06  6941.999 13837.43\n",
       "Oct 2015       9837.409  7450.767 12224.05  6187.355 13487.46\n",
       "Nov 2015       9245.435  6779.792 11711.08  5474.559 13016.31\n",
       "Dec 2015      12561.458 10047.751 15075.16  8717.076 16405.84"
      ]
     },
     "metadata": {},
     "output_type": "display_data"
    }
   ],
   "source": [
    "forecast(fit,6)"
   ]
  },
  {
   "cell_type": "code",
   "execution_count": null,
   "metadata": {
    "collapsed": true
   },
   "outputs": [],
   "source": []
  }
 ],
 "metadata": {
  "anaconda-cloud": {},
  "kernelspec": {
   "display_name": "R",
   "language": "R",
   "name": "ir"
  },
  "language_info": {
   "codemirror_mode": "r",
   "file_extension": ".r",
   "mimetype": "text/x-r-source",
   "name": "R",
   "pygments_lexer": "r",
   "version": "3.3.1"
  }
 },
 "nbformat": 4,
 "nbformat_minor": 1
}
